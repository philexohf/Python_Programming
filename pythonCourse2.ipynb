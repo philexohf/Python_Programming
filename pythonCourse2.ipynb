{
 "cells": [
  {
   "cell_type": "markdown",
   "metadata": {},
   "source": [
    "   # 《Python编程入门》02 Python语法基础\n",
    "   \n",
    "   ***\n",
    "\n",
    "<img width=1200 height=480 src=\"https://timgsa.baidu.com/timg?image&quality=80&size=b9999_10000&sec=1550608634102&di=50b3b0f113ad9adbf28bfc64dde1ff1f&imgtype=0&src=http%3A%2F%2Fimg95.699pic.com%2Fphoto%2F50062%2F4783.jpg_wh860.jpg\"/>"
   ]
  },
  {
   "cell_type": "markdown",
   "metadata": {},
   "source": [
    "## =^^=author:秋叶为何而落 =^=^=^= QQ : 81502787 =^^="
   ]
  },
  {
   "cell_type": "markdown",
   "metadata": {},
   "source": [
    "# 1 对象、表达式和数值类型\n",
    "***\n"
   ]
  },
  {
   "cell_type": "markdown",
   "metadata": {},
   "source": [
    "## 对象\n",
    "是Python程序处理的核心元素。每个对象都有类型，定义了程序能够在这个对象上的操作。\n"
   ]
  },
  {
   "cell_type": "markdown",
   "metadata": {},
   "source": [
    "## 数值类型\n",
    "\n",
    "分为标量和非标量。\n",
    "Python有以下四种标量类型：\n",
    "int : 表示整数；\n",
    "float:表示实数；\n",
    "bool:表示逻辑值，True和False;\n",
    "None:空类型，只有一个值。"
   ]
  },
  {
   "cell_type": "markdown",
   "metadata": {},
   "source": [
    "对象和运算符可以组成表达式，每个表达式都相当于某种类型的对象，称为表达式的值。\n",
    "算术运算符主要用于计算，int类型和float类型的对象支持+ - \\* / // % \\*\\*等运算符。\n",
    "bool类型运算符支持and or not"
   ]
  },
  {
   "cell_type": "code",
   "execution_count": 1,
   "metadata": {},
   "outputs": [
    {
     "data": {
      "text/plain": [
       "5"
      ]
     },
     "execution_count": 1,
     "metadata": {},
     "output_type": "execute_result"
    }
   ],
   "source": [
    "3 + 2"
   ]
  },
  {
   "cell_type": "code",
   "execution_count": 2,
   "metadata": {},
   "outputs": [
    {
     "data": {
      "text/plain": [
       "5.0"
      ]
     },
     "execution_count": 2,
     "metadata": {},
     "output_type": "execute_result"
    }
   ],
   "source": [
    "3.0 + 2.0"
   ]
  },
  {
   "cell_type": "code",
   "execution_count": 4,
   "metadata": {},
   "outputs": [
    {
     "data": {
      "text/plain": [
       "True"
      ]
     },
     "execution_count": 4,
     "metadata": {},
     "output_type": "execute_result"
    }
   ],
   "source": [
    "3 != 2"
   ]
  },
  {
   "cell_type": "code",
   "execution_count": 6,
   "metadata": {},
   "outputs": [
    {
     "data": {
      "text/plain": [
       "False"
      ]
     },
     "execution_count": 6,
     "metadata": {},
     "output_type": "execute_result"
    }
   ],
   "source": [
    "False and 1"
   ]
  },
  {
   "cell_type": "markdown",
   "metadata": {},
   "source": [
    "# 2 变量与赋值"
   ]
  },
  {
   "cell_type": "code",
   "execution_count": null,
   "metadata": {
    "collapsed": true
   },
   "outputs": [],
   "source": [
    "a = 5\n",
    "b = 3\n",
    "x = a // b\n",
    "y = a % b\n",
    "print(x, y)"
   ]
  },
  {
   "cell_type": "markdown",
   "metadata": {},
   "source": [
    "# 3 标识符和关键字\n",
    "***\n",
    "        若希望在程序中表示一些事物，需要开发人员自定义一些符号和名称，这些符号和名称叫做标识符。\n",
    "        标识符由字母、下划线和数字组成，且数字不能开头；\n",
    "        标识符区分大小写；\n",
    "        不能使用关键字做普通的标识符。\n",
    "        \n",
    "        关键字指的是具有特殊功能的标识符。"
   ]
  },
  {
   "cell_type": "code",
   "execution_count": 7,
   "metadata": {},
   "outputs": [
    {
     "data": {
      "text/plain": [
       "1"
      ]
     },
     "execution_count": 7,
     "metadata": {},
     "output_type": "execute_result"
    }
   ],
   "source": [
    "标识符 = 1\n",
    "标识符"
   ]
  },
  {
   "cell_type": "markdown",
   "metadata": {},
   "source": [
    "# 4 字符串、输入和输出函数\n",
    "***"
   ]
  },
  {
   "cell_type": "code",
   "execution_count": 39,
   "metadata": {},
   "outputs": [
    {
     "name": "stdout",
     "output_type": "stream",
     "text": [
      "请输入一个数字1：3\n",
      "请输入一个数字2：4\n",
      "7\n"
     ]
    }
   ],
   "source": [
    "a = int(input(\"请输入一个数字1：\")) #输入函数\n",
    "b = int(input(\"请输入一个数字2：\")) #输入函数\n",
    "print(a + b)  # 输出函数"
   ]
  },
  {
   "cell_type": "markdown",
   "metadata": {},
   "source": [
    "# 项目1： 航空公司行李托运的收费问题\n",
    "***\n",
    "    项目情景：航空公司特别不喜欢又大又轻的箱子，因为箱子在航空托运上要占据宝贵的空间。为解决这个问题，航空公司规定，在货物体积小，重量大时，按实际重量计算；在货物体积大，重量小时，按体积计算；在集中托运时，一批货物由几件不同的货物组成，有轻泡货也有重货。其计费重量则采用整批货物的总毛重或总的体积重量，按两者之中较高的一个计算。在国际单位制下，通常是把体积(立方厘米)除以6000得到体积重量。如果体积重量大于实际重量，按体积重量收费。\n",
    " \n",
    "    问题：假设航运公司雇佣你来编写一个计算箱子体积重量的程序，请利用你所学的编程知识实现此程序。\n",
    "\n",
    "![新桥机场](http://www.chinaairhn.com/uploads/180419/3-1P41915342W26.png)"
   ]
  },
  {
   "cell_type": "markdown",
   "metadata": {},
   "source": [
    "# 项目1程序"
   ]
  },
  {
   "cell_type": "code",
   "execution_count": 2,
   "metadata": {},
   "outputs": [
    {
     "name": "stdout",
     "output_type": "stream",
     "text": [
      "请输入箱子的高度(cm)：50\n",
      "请输入箱子的宽度(cm)：60\n",
      "请输入箱子的长度(cm)：80\n",
      "=================\n",
      "箱子的体积重量为:\n",
      "40.0\n"
     ]
    }
   ],
   "source": [
    "高 = float(input(\"请输入箱子的高度(cm)：\"))\n",
    "宽 = float(input(\"请输入箱子的宽度(cm)：\"))\n",
    "长 = float(input(\"请输入箱子的长度(cm)：\"))\n",
    "体积重量 = (高 * 宽 * 长) / 6000\n",
    "print(\"=================\")\n",
    "print(\"箱子的体积重量为:\")\n",
    "print(体积重量)"
   ]
  },
  {
   "cell_type": "markdown",
   "metadata": {},
   "source": [
    "# 编程练习1\n",
    "***"
   ]
  },
  {
   "cell_type": "code",
   "execution_count": null,
   "metadata": {
    "collapsed": true
   },
   "outputs": [],
   "source": []
  }
 ],
 "metadata": {
  "kernelspec": {
   "display_name": "Python [default]",
   "language": "python",
   "name": "python3"
  },
  "language_info": {
   "codemirror_mode": {
    "name": "ipython",
    "version": 3
   },
   "file_extension": ".py",
   "mimetype": "text/x-python",
   "name": "python",
   "nbconvert_exporter": "python",
   "pygments_lexer": "ipython3",
   "version": "3.6.2"
  }
 },
 "nbformat": 4,
 "nbformat_minor": 2
}
