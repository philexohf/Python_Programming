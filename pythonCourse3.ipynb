{
 "cells": [
  {
   "cell_type": "markdown",
   "metadata": {},
   "source": [
    "   # 《Python编程入门》03 分支和迭代\n",
    "   \n",
    "   ***\n",
    "\n",
    "<img width=1200 height=480 src=\"https://timgsa.baidu.com/timg?image&quality=80&size=b9999_10000&sec=1550608634102&di=50b3b0f113ad9adbf28bfc64dde1ff1f&imgtype=0&src=http%3A%2F%2Fimg95.699pic.com%2Fphoto%2F50062%2F4783.jpg_wh860.jpg\"/>"
   ]
  },
  {
   "cell_type": "markdown",
   "metadata": {},
   "source": [
    "## =^^=author:秋叶为何而落 =^=^=^= QQ : 81502787 =^^="
   ]
  },
  {
   "cell_type": "markdown",
   "metadata": {},
   "source": [
    "# 1 if语句\n",
    "***"
   ]
  },
  {
   "cell_type": "markdown",
   "metadata": {},
   "source": [
    "    （1）双分支结构-语法格式：\n",
    "    if 条件:\n",
    "        语句1\n",
    "    else:\n",
    "        语句2"
   ]
  },
  {
   "cell_type": "code",
   "execution_count": 2,
   "metadata": {},
   "outputs": [
    {
     "name": "stdout",
     "output_type": "stream",
     "text": [
      "请输入学生的成绩：59\n",
      "该同学的成绩不及格！\n"
     ]
    }
   ],
   "source": [
    "score = int(input(\"请输入学生的成绩：\"))\n",
    "if score >= 60:\n",
    "    print(\"该同学的成绩及格！\")\n",
    "else:\n",
    "    print(\"该同学的成绩不及格！\")"
   ]
  },
  {
   "cell_type": "markdown",
   "metadata": {},
   "source": [
    "    （2）多分支结构-语法格式：\n",
    "    if 条件1:\n",
    "        语句1\n",
    "    elif 条件2:\n",
    "        语句2\n",
    "    elif 条件3:\n",
    "        语句3\n",
    "        ...\n",
    "    elif 条件n-1:\n",
    "        语句n-1\n",
    "    else:\n",
    "        语句n"
   ]
  },
  {
   "cell_type": "code",
   "execution_count": 11,
   "metadata": {},
   "outputs": [
    {
     "name": "stdout",
     "output_type": "stream",
     "text": [
      "请输入学生的成绩：93\n",
      "优秀\n"
     ]
    }
   ],
   "source": [
    "score = int(input(\"请输入学生的成绩：\"))\n",
    "if score >= 90:\n",
    "    print(\"优秀\")\n",
    "elif score >= 80:\n",
    "    print(\"良好\")\n",
    "elif score >= 70:\n",
    "    print(\"中等\")\n",
    "elif score >= 60:\n",
    "    print(\"及格\")\n",
    "else:\n",
    "    print('不及格')\n"
   ]
  },
  {
   "cell_type": "markdown",
   "metadata": {},
   "source": [
    "## 案例：\n",
    "编写一个程序，检查3个变量x,y,z,输出其中最大的奇数。如果没有奇数，就输出一个消息进行说明。"
   ]
  },
  {
   "cell_type": "code",
   "execution_count": 5,
   "metadata": {},
   "outputs": [
    {
     "name": "stdout",
     "output_type": "stream",
     "text": [
      "请输入x的值：3\n",
      "请输入y的值：6\n",
      "请输入z的值：8\n",
      "最大的奇数为：3\n"
     ]
    }
   ],
   "source": [
    "x = int(input(\"请输入x的值：\"))\n",
    "y = int(input(\"请输入y的值：\"))\n",
    "z = int(input(\"请输入z的值：\"))\n",
    "\n",
    "odd = None\n",
    "\n",
    "if x%2 != 0:\n",
    "    odd = x\n",
    "\n",
    "if y%2 != 0:\n",
    "    if y > x:\n",
    "        odd = y\n",
    "\n",
    "if z%2 != 0:\n",
    "    if z > x or z > y:\n",
    "        odd = z\n",
    "\n",
    "if odd == None:\n",
    "    print(\"没有奇数.\")\n",
    "else:\n",
    "    print(f\"最大的奇数为：{odd}\")"
   ]
  },
  {
   "cell_type": "markdown",
   "metadata": {},
   "source": [
    "# 项目3 计算股票经纪人的佣金\n",
    "***\n",
    "    项目情景：当股票通过经纪人进行买卖时，经纪人的佣金往往根据股票交易额采用某种变化比例进行计算。下表显示了实际支付给经纪人的费用数量。\n",
    "    \n",
    "               交易额范围（元）                      佣金（元） \n",
    "               低于   2500                         30 + 1.7% \n",
    "               2500 -  6250                         56 + 0.66%\n",
    "               6250 -  20000                        76 + 0.34%\n",
    "               20000 - 50000                        100 + 0.22%\n",
    "               50000 - 500000                       155 + 0.11%\n",
    "               超过   500000                        255 + 0.09%\n",
    "               最低收费为39元。\n",
    "               \n",
    "     要求编写程序，使得用户录入交易额，就可以显示出佣金的数额。\n",
    "![股票交易所](http://img1.cache.netease.com/catchpic/8/84/84685CBC78AEDAC4380968689E59DF27.jpg)"
   ]
  },
  {
   "cell_type": "markdown",
   "metadata": {},
   "source": [
    "# 项目3程序："
   ]
  },
  {
   "cell_type": "code",
   "execution_count": 7,
   "metadata": {},
   "outputs": [
    {
     "name": "stdout",
     "output_type": "stream",
     "text": [
      "输入股票的价值:325678\n",
      "应该支付的佣金为：513.25\n"
     ]
    }
   ],
   "source": [
    "value = float(input(\"输入股票的价值:\"))\n",
    "\n",
    "if value < 2500.00:\n",
    "    commission = 30.00 + 0.017 * value\n",
    "elif value < 6250:\n",
    "    commission = 56.00 + 0.0066 * value\n",
    "elif value < 20000.00:\n",
    "    commission = 76.00 + 0.0034 * value\n",
    "elif value < 50000.00:\n",
    "    commission = 100.00 + 0.0022 * value\n",
    "elif value < 500000.00:\n",
    "    commission = 155.00 + 0.0011 * value\n",
    "else:\n",
    "    commission = 255.00 + 0.0009 * value\n",
    "\n",
    "if commission < 39.00:\n",
    "    commission = 39.00\n",
    "print(\"应该支付的佣金为：{:.2f}\".format(commission))\n"
   ]
  },
  {
   "cell_type": "markdown",
   "metadata": {},
   "source": [
    "# 2 while语句\n",
    "***"
   ]
  },
  {
   "cell_type": "markdown",
   "metadata": {},
   "source": [
    "    while语句-语法结构：\n",
    "    while 条件：\n",
    "        语句1\n",
    "        语句2\n",
    "        ...\n",
    "        语句n\n",
    "        \n"
   ]
  },
  {
   "cell_type": "code",
   "execution_count": 15,
   "metadata": {},
   "outputs": [
    {
     "name": "stdout",
     "output_type": "stream",
     "text": [
      "5050\n"
     ]
    }
   ],
   "source": [
    "sum = 0\n",
    "i = 1\n",
    "while i <= 100:\n",
    "    sum = sum + i\n",
    "    i = i + 1\n",
    "print(sum)\n",
    "    "
   ]
  },
  {
   "cell_type": "markdown",
   "metadata": {},
   "source": [
    "# 3 for语句\n",
    "***"
   ]
  },
  {
   "cell_type": "markdown",
   "metadata": {},
   "source": [
    "    for语句-语法结构：\n",
    "    for 变量 in 序列：\n",
    "        语句1\n",
    "        语句2\n",
    "        ...\n",
    "        语句n"
   ]
  },
  {
   "cell_type": "code",
   "execution_count": 4,
   "metadata": {},
   "outputs": [
    {
     "name": "stdout",
     "output_type": "stream",
     "text": [
      "语文\n",
      "数学\n",
      "英语\n",
      "物理\n",
      "化学\n"
     ]
    }
   ],
   "source": [
    "课程 = ['语文', '数学', '英语', '物理', '化学']\n",
    "for i in 课程:\n",
    "    print(i)"
   ]
  },
  {
   "cell_type": "code",
   "execution_count": 23,
   "metadata": {},
   "outputs": [
    {
     "name": "stdout",
     "output_type": "stream",
     "text": [
      "2550\n"
     ]
    }
   ],
   "source": [
    "sum = 0\n",
    "for i in range(2, 102, 2):\n",
    "    sum += i\n",
    "print(sum)"
   ]
  },
  {
   "cell_type": "markdown",
   "metadata": {},
   "source": [
    "复合运算符"
   ]
  },
  {
   "cell_type": "code",
   "execution_count": 26,
   "metadata": {},
   "outputs": [
    {
     "name": "stdout",
     "output_type": "stream",
     "text": [
      "2\n"
     ]
    }
   ],
   "source": [
    "a = 3\n",
    "b = 5\n",
    "b %= a\n",
    "print(b)"
   ]
  },
  {
   "cell_type": "markdown",
   "metadata": {},
   "source": [
    "# 项目4：乘法口诀表\n",
    "***\n",
    "    为小学生编写一个乘法口诀表。"
   ]
  },
  {
   "cell_type": "markdown",
   "metadata": {},
   "source": [
    "# 项目4程序"
   ]
  },
  {
   "cell_type": "code",
   "execution_count": 1,
   "metadata": {},
   "outputs": [
    {
     "name": "stdout",
     "output_type": "stream",
     "text": [
      "1x1=1\t\n",
      "1x2=2\t2x2=4\t\n",
      "1x3=3\t2x3=6\t3x3=9\t\n",
      "1x4=4\t2x4=8\t3x4=12\t4x4=16\t\n",
      "1x5=5\t2x5=10\t3x5=15\t4x5=20\t5x5=25\t\n",
      "1x6=6\t2x6=12\t3x6=18\t4x6=24\t5x6=30\t6x6=36\t\n",
      "1x7=7\t2x7=14\t3x7=21\t4x7=28\t5x7=35\t6x7=42\t7x7=49\t\n",
      "1x8=8\t2x8=16\t3x8=24\t4x8=32\t5x8=40\t6x8=48\t7x8=56\t8x8=64\t\n",
      "1x9=9\t2x9=18\t3x9=27\t4x9=36\t5x9=45\t6x9=54\t7x9=63\t8x9=72\t9x9=81\t\n"
     ]
    }
   ],
   "source": [
    "for i in range(1, 10):\n",
    "    for j in range(1, i+1):\n",
    "        print('{}x{}={}\\t'.format(j, i, i*j), end='')\n",
    "    print()"
   ]
  },
  {
   "cell_type": "code",
   "execution_count": 4,
   "metadata": {},
   "outputs": [
    {
     "name": "stdout",
     "output_type": "stream",
     "text": [
      "1x1=1\t\n",
      "1x2=2\t2x2=4\t\n",
      "1x3=3\t2x3=6\t3x3=9\t\n",
      "1x4=4\t2x4=8\t3x4=12\t4x4=16\t\n",
      "1x5=5\t2x5=10\t3x5=15\t4x5=20\t5x5=25\t\n",
      "1x6=6\t2x6=12\t3x6=18\t4x6=24\t5x6=30\t6x6=36\t\n",
      "1x7=7\t2x7=14\t3x7=21\t4x7=28\t5x7=35\t6x7=42\t7x7=49\t\n",
      "1x8=8\t2x8=16\t3x8=24\t4x8=32\t5x8=40\t6x8=48\t7x8=56\t8x8=64\t\n",
      "1x9=9\t2x9=18\t3x9=27\t4x9=36\t5x9=45\t6x9=54\t7x9=63\t8x9=72\t9x9=81\t\n"
     ]
    }
   ],
   "source": [
    "for i in range(1, 10):\n",
    "    for j in range(1, i+1):\n",
    "        print(f'{j}x{i}={i*j}\\t', end='')\n",
    "    print()"
   ]
  },
  {
   "cell_type": "markdown",
   "metadata": {},
   "source": [
    "# 编程练习2\n",
    "***\n",
    "        某货运公司对普通客户的运费折扣标准如下：运输的里程s＜250km 没有折扣；250≤S＜500 2％折扣；500≤S＜1000 5％折扣；1000≤S＜2000 8％折扣；2000≤S＜3000 10％折扣；3000≤S 15％折扣。设每公里每吨货物的基本运费为p(price),货物重为w(weight),距离为s,折扣为d(discount),则总运费f(freight的缩写)的计算公式为f=p*w*s*(1-d)。编写一个程序计算客户的总运费。"
   ]
  },
  {
   "cell_type": "code",
   "execution_count": 4,
   "metadata": {},
   "outputs": [
    {
     "name": "stdout",
     "output_type": "stream",
     "text": [
      "请输入基本运费：\n",
      "4\n",
      "请输入货物重量：\n",
      "60\n",
      "请输入运输里程：\n",
      "4500\n",
      "总运费为：918000.00\n"
     ]
    }
   ],
   "source": [
    "p = float(input(\"请输入基本运费：\\n\"))\n",
    "w = float(input(\"请输入货物重量：\\n\"))\n",
    "s = float(input(\"请输入运输里程：\\n\"))\n",
    "\n",
    "if s < 250:\n",
    "    d = 0\n",
    "elif s < 500:\n",
    "    d = 0.02\n",
    "elif s < 1000:\n",
    "    d = 0.05\n",
    "elif s < 2000:\n",
    "    d = 0.08\n",
    "elif s < 3000:\n",
    "    d = 0.10\n",
    "else:\n",
    "    d = 0.15\n",
    "\n",
    "f = p*w*s*(1-d)\n",
    "print(\"总运费为：{:.2f}\".format(f))"
   ]
  },
  {
   "cell_type": "markdown",
   "metadata": {},
   "source": [
    "# 编程练习3"
   ]
  }
 ],
 "metadata": {
  "kernelspec": {
   "display_name": "Python [default]",
   "language": "python",
   "name": "python3"
  },
  "language_info": {
   "codemirror_mode": {
    "name": "ipython",
    "version": 3
   },
   "file_extension": ".py",
   "mimetype": "text/x-python",
   "name": "python",
   "nbconvert_exporter": "python",
   "pygments_lexer": "ipython3",
   "version": "3.6.2"
  }
 },
 "nbformat": 4,
 "nbformat_minor": 2
}
