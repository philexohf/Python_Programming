{
 "cells": [
  {
   "cell_type": "markdown",
   "metadata": {},
   "source": [
    "   # 《Python编程入门》04 结构化类型：元组、范围、列表和字典\n",
    "   \n",
    "   ***\n",
    "\n",
    "<img width=1200 height=480 src=\"https://timgsa.baidu.com/timg?image&quality=80&size=b9999_10000&sec=1550608634102&di=50b3b0f113ad9adbf28bfc64dde1ff1f&imgtype=0&src=http%3A%2F%2Fimg95.699pic.com%2Fphoto%2F50062%2F4783.jpg_wh860.jpg\"/>"
   ]
  },
  {
   "cell_type": "markdown",
   "metadata": {},
   "source": [
    "## =^^=author:秋叶为何而落 =^=^=^= QQ : 81502787 =^^="
   ]
  },
  {
   "cell_type": "markdown",
   "metadata": {},
   "source": [
    "# 1 列表\n",
    "***"
   ]
  },
  {
   "cell_type": "code",
   "execution_count": 3,
   "metadata": {},
   "outputs": [
    {
     "name": "stdout",
     "output_type": "stream",
     "text": [
      "语文\n",
      "数学\n",
      "英语\n",
      "物理\n",
      "化学\n",
      "5\n"
     ]
    }
   ],
   "source": [
    "课程 = ['语文', '数学', '英语', '物理', '化学']\n",
    "for i in 课程:\n",
    "    print(i)\n",
    "print(len(课程))"
   ]
  },
  {
   "cell_type": "code",
   "execution_count": 5,
   "metadata": {},
   "outputs": [
    {
     "name": "stdout",
     "output_type": "stream",
     "text": [
      "语文\n",
      "数学\n",
      "英语\n",
      "物理\n",
      "化学\n"
     ]
    }
   ],
   "source": [
    "课程 = ['语文', '数学', '英语', '物理', '化学']\n",
    "i = 0\n",
    "while i < len(课程):\n",
    "    print(课程[i])\n",
    "    i += 1"
   ]
  },
  {
   "cell_type": "markdown",
   "metadata": {},
   "source": [
    "列表的操作"
   ]
  },
  {
   "cell_type": "code",
   "execution_count": 14,
   "metadata": {},
   "outputs": [
    {
     "name": "stdout",
     "output_type": "stream",
     "text": [
      "语文\n",
      "数学\n",
      "英语\n",
      "物理\n",
      "化学\n",
      "['计算机', '电影', '音乐']\n"
     ]
    }
   ],
   "source": [
    "# 通过append方法向列表中添加元素\n",
    "课程 = ['语文', '数学', '英语', '物理', '化学']\n",
    "课程2 = ['计算机', '电影', '音乐']\n",
    "课程.append(课程2)\n",
    "for i in 课程:\n",
    "    print(i)"
   ]
  },
  {
   "cell_type": "code",
   "execution_count": 13,
   "metadata": {},
   "outputs": [
    {
     "name": "stdout",
     "output_type": "stream",
     "text": [
      "语文\n",
      "数学\n",
      "英语\n",
      "物理\n",
      "化学\n",
      "计算机\n",
      "电影\n",
      "音乐\n"
     ]
    }
   ],
   "source": [
    "# 通过extend方法向列表中添加元素\n",
    "课程 = ['语文', '数学', '英语', '物理', '化学']\n",
    "课程2 = ['计算机', '电影', '音乐']\n",
    "课程.extend(课程2)\n",
    "for i in 课程:\n",
    "    print(i)"
   ]
  },
  {
   "cell_type": "code",
   "execution_count": 19,
   "metadata": {},
   "outputs": [
    {
     "name": "stdout",
     "output_type": "stream",
     "text": [
      "语文\n",
      "数学\n",
      "英语\n",
      "物理\n",
      "化学\n",
      "电影赏析\n"
     ]
    }
   ],
   "source": [
    "# 通过insert方法向列表中添加元素\n",
    "课程 = ['语文', '数学', '英语', '物理', '化学']\n",
    "课程.insert(len(课程), '电影赏析')\n",
    "for i in 课程:\n",
    "    print(i)"
   ]
  },
  {
   "cell_type": "markdown",
   "metadata": {},
   "source": [
    "在列表中查找元素"
   ]
  },
  {
   "cell_type": "code",
   "execution_count": 4,
   "metadata": {
    "scrolled": false
   },
   "outputs": [
    {
     "name": "stdout",
     "output_type": "stream",
     "text": [
      "请输入要查找的元素：1\n",
      "列表中不存在此元素。\n"
     ]
    }
   ],
   "source": [
    "课程 = ['语文', '数学', '英语', '物理', '化学']\n",
    "find_name = input('请输入要查找的元素：')\n",
    "if find_name in 课程:\n",
    "    print('列表中存在此元素。')\n",
    "else:\n",
    "    print('列表中不存在此元素。')"
   ]
  },
  {
   "cell_type": "code",
   "execution_count": 7,
   "metadata": {},
   "outputs": [
    {
     "name": "stdout",
     "output_type": "stream",
     "text": [
      "['电影', '电影', '电影', '物理', '化学']\n"
     ]
    }
   ],
   "source": [
    "课程[2] = '电影'\n",
    "print(课程)"
   ]
  },
  {
   "cell_type": "markdown",
   "metadata": {},
   "source": [
    "在列表中删除元素"
   ]
  },
  {
   "cell_type": "code",
   "execution_count": 17,
   "metadata": {},
   "outputs": [
    {
     "name": "stdout",
     "output_type": "stream",
     "text": [
      "['数学', '英语']\n"
     ]
    }
   ],
   "source": [
    "课程 = ['语文', '数学', '英语', '物理', '化学']\n",
    "del 课程[0]\n",
    "课程.pop()\n",
    "课程.remove(\"物理\")\n",
    "print(课程)"
   ]
  },
  {
   "cell_type": "markdown",
   "metadata": {},
   "source": [
    "列表的排序"
   ]
  },
  {
   "cell_type": "code",
   "execution_count": 20,
   "metadata": {},
   "outputs": [
    {
     "name": "stdout",
     "output_type": "stream",
     "text": [
      "[1, 2, 3, 4, 5]\n",
      "[5, 4, 3, 2, 1]\n"
     ]
    }
   ],
   "source": [
    "numList = [1, 4, 5, 3, 2]\n",
    "numList.sort()\n",
    "print(numList)\n",
    "numList.reverse()\n",
    "print(numList)"
   ]
  },
  {
   "cell_type": "markdown",
   "metadata": {},
   "source": [
    "# 2 元组\n",
    "***"
   ]
  },
  {
   "cell_type": "code",
   "execution_count": 28,
   "metadata": {},
   "outputs": [
    {
     "name": "stdout",
     "output_type": "stream",
     "text": [
      "['XiaoZhang', 'xiaoLi', 'xiaoWang']\n",
      "['XiaoZhang', 'xiaoxiaoWang', 'xiaoWang']\n"
     ]
    }
   ],
   "source": [
    "name_list = ['XiaoZhang', 'xiaoWang', 'xiaoLi']\n",
    "name_list.sort()\n",
    "print(name_list)\n",
    "name_list[1] = 'xiaoxiaoWang'\n",
    "print(name_list)"
   ]
  },
  {
   "cell_type": "code",
   "execution_count": 24,
   "metadata": {},
   "outputs": [
    {
     "name": "stdout",
     "output_type": "stream",
     "text": [
      "语文\n"
     ]
    }
   ],
   "source": [
    "课程 = ('语文', '数学', '英语', '物理', '化学')\n",
    "print(课程[0])"
   ]
  },
  {
   "cell_type": "markdown",
   "metadata": {},
   "source": [
    "# 3 字典\n",
    "***"
   ]
  },
  {
   "cell_type": "code",
   "execution_count": 9,
   "metadata": {
    "scrolled": true
   },
   "outputs": [
    {
     "name": "stdout",
     "output_type": "stream",
     "text": [
      "{'name': '班长', 'id': 101, 'sex': 'f', 'address': '北京', '课程': 'math'}\n",
      "=================\n",
      "name\n",
      "id\n",
      "sex\n",
      "address\n",
      "=================\n",
      "班长\n",
      "101\n",
      "f\n",
      "北京\n"
     ]
    }
   ],
   "source": [
    "info = {'name':'班长', 'id':100, 'sex':'f', 'address':'北京'}\n",
    "info['id'] = 101\n",
    "info['课程'] = 'math'\n",
    "print(info)\n",
    "del info['课程']\n",
    "print('=================')\n",
    "for key in info.keys():\n",
    "    print(key)\n",
    "print('=================')\n",
    "for value in info.values():\n",
    "    print(value)"
   ]
  },
  {
   "cell_type": "markdown",
   "metadata": {},
   "source": [
    "# 项目5：\n",
    "***"
   ]
  },
  {
   "cell_type": "markdown",
   "metadata": {},
   "source": [
    "# 编程练习4"
   ]
  }
 ],
 "metadata": {
  "kernelspec": {
   "display_name": "Python [default]",
   "language": "python",
   "name": "python3"
  },
  "language_info": {
   "codemirror_mode": {
    "name": "ipython",
    "version": 3
   },
   "file_extension": ".py",
   "mimetype": "text/x-python",
   "name": "python",
   "nbconvert_exporter": "python",
   "pygments_lexer": "ipython3",
   "version": "3.6.2"
  }
 },
 "nbformat": 4,
 "nbformat_minor": 2
}
