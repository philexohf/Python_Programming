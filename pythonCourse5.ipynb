{
 "cells": [
  {
   "cell_type": "markdown",
   "metadata": {},
   "source": [
    "   # 《Python编程入门》05 函数\n",
    "   \n",
    "   ***\n",
    "\n",
    "<img width=1200 height=480 src=\"https://timgsa.baidu.com/timg?image&quality=80&size=b9999_10000&sec=1550608634102&di=50b3b0f113ad9adbf28bfc64dde1ff1f&imgtype=0&src=http%3A%2F%2Fimg95.699pic.com%2Fphoto%2F50062%2F4783.jpg_wh860.jpg\"/>"
   ]
  },
  {
   "cell_type": "markdown",
   "metadata": {},
   "source": [
    "## =^^=author:秋叶为何而落 =^=^=^= QQ : 81502787 =^^="
   ]
  },
  {
   "cell_type": "markdown",
   "metadata": {
    "collapsed": true
   },
   "source": [
    "函数的定义和调用"
   ]
  },
  {
   "cell_type": "markdown",
   "metadata": {},
   "source": [
    "    def 函数名(参数列表):\n",
    "        函数体\n",
    "    return 表达式"
   ]
  },
  {
   "cell_type": "code",
   "execution_count": 8,
   "metadata": {},
   "outputs": [
    {
     "name": "stdout",
     "output_type": "stream",
     "text": [
      "17\n"
     ]
    }
   ],
   "source": [
    "def add(a, b, d = 6):\n",
    "    c = a + b + d\n",
    "    return c\n",
    "\n",
    "data = add(5, 6)\n",
    "print(data)"
   ]
  },
  {
   "cell_type": "markdown",
   "metadata": {},
   "source": [
    "全局变量和局部变量"
   ]
  },
  {
   "cell_type": "markdown",
   "metadata": {},
   "source": [
    "局部变量：定义在函数内的变量。\n",
    "全局变量：定义在函数外部的变量。\n",
    "局部变量只能在其被声明的函数内部访问，而全局变量可以在整个程序范围内访问，拥有全局作用域。"
   ]
  },
  {
   "cell_type": "code",
   "execution_count": 25,
   "metadata": {
    "scrolled": true
   },
   "outputs": [
    {
     "name": "stdout",
     "output_type": "stream",
     "text": [
      "10\n",
      "20\n"
     ]
    }
   ],
   "source": [
    "a = 20\n",
    "def test():\n",
    "    a = 10\n",
    "    print(a)\n",
    "test()\n",
    "print(a)"
   ]
  },
  {
   "cell_type": "markdown",
   "metadata": {},
   "source": [
    "global关键字"
   ]
  },
  {
   "cell_type": "code",
   "execution_count": 26,
   "metadata": {},
   "outputs": [
    {
     "name": "stdout",
     "output_type": "stream",
     "text": [
      "10\n",
      "10\n"
     ]
    }
   ],
   "source": [
    "# global\n",
    "a = 20\n",
    "def test():\n",
    "    global a\n",
    "    a = 10\n",
    "    print(a)\n",
    "test()\n",
    "print(a)"
   ]
  },
  {
   "cell_type": "markdown",
   "metadata": {},
   "source": [
    "   ## nonlocal关键字\n",
    "        使用nonlocal关键字可以在一个嵌套的函数中修改嵌套作用域中的变量。"
   ]
  },
  {
   "cell_type": "code",
   "execution_count": 28,
   "metadata": {
    "scrolled": true
   },
   "outputs": [
    {
     "name": "stdout",
     "output_type": "stream",
     "text": [
      "12\n"
     ]
    }
   ],
   "source": [
    "def func():\n",
    "    count = 1\n",
    "    def func_in():\n",
    "        nonlocal count\n",
    "        count = 12\n",
    "    func_in()\n",
    "    print(count)\n",
    "\n",
    "func()\n"
   ]
  },
  {
   "cell_type": "markdown",
   "metadata": {},
   "source": [
    "tips:使用global关键字修饰的变量之前可以不存在，而使用nonlocal关键字修饰的变量在嵌套作用域中必须已经存在。"
   ]
  },
  {
   "cell_type": "markdown",
   "metadata": {},
   "source": [
    "## 递归函数\n",
    "    在一个函数内部调用了函数本身，那么这个函数就是递归函数。"
   ]
  },
  {
   "cell_type": "code",
   "execution_count": 30,
   "metadata": {},
   "outputs": [
    {
     "name": "stdout",
     "output_type": "stream",
     "text": [
      "请输入一个正整数：3\n",
      "6\n"
     ]
    }
   ],
   "source": [
    "def func(count):\n",
    "    if count == 1:\n",
    "        result = 1\n",
    "    else:\n",
    "        result = func(count-1) * count\n",
    "    return result\n",
    "\n",
    "number = int(input('请输入一个正整数：'))\n",
    "print(func(number))"
   ]
  },
  {
   "cell_type": "markdown",
   "metadata": {},
   "source": [
    "## 匿名函数\n",
    "    格式：\n",
    "        lambda 参数: 表达式"
   ]
  },
  {
   "cell_type": "code",
   "execution_count": 1,
   "metadata": {},
   "outputs": [
    {
     "data": {
      "text/plain": [
       "30"
      ]
     },
     "execution_count": 1,
     "metadata": {},
     "output_type": "execute_result"
    }
   ],
   "source": [
    "add = lambda a, b: a + b\n",
    "add(10, 20)"
   ]
  },
  {
   "cell_type": "code",
   "execution_count": 2,
   "metadata": {},
   "outputs": [
    {
     "name": "stdout",
     "output_type": "stream",
     "text": [
      "a=11\n",
      "b=22\n",
      "('result=', 33)\n",
      "-------------------------\n",
      "a=11\n",
      "b=22\n",
      "('result=', -11)\n"
     ]
    }
   ],
   "source": [
    "def func(a, b, operation):\n",
    "    print(\"a=%d\"%a)\n",
    "    print(\"b=%d\"%b)\n",
    "    print(\"result=\", operation(a, b))\n",
    "func(11, 22, lambda x, y: x + y)\n",
    "print(\"-------------------------\")\n",
    "func(11, 22, lambda x, y: x - y)"
   ]
  },
  {
   "cell_type": "code",
   "execution_count": null,
   "metadata": {
    "collapsed": true
   },
   "outputs": [],
   "source": []
  }
 ],
 "metadata": {
  "kernelspec": {
   "display_name": "Python [default]",
   "language": "python",
   "name": "python3"
  },
  "language_info": {
   "codemirror_mode": {
    "name": "ipython",
    "version": 3
   },
   "file_extension": ".py",
   "mimetype": "text/x-python",
   "name": "python",
   "nbconvert_exporter": "python",
   "pygments_lexer": "ipython3",
   "version": "3.6.2"
  }
 },
 "nbformat": 4,
 "nbformat_minor": 2
}
