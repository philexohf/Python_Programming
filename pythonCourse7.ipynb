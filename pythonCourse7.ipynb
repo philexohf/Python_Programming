{
 "cells": [
  {
   "cell_type": "markdown",
   "metadata": {},
   "source": [
    "   # 《Python编程入门》07 类与面向对象编程\n",
    "   \n",
    "   ***\n",
    "\n",
    "<img width=1200 height=480 src=\"https://timgsa.baidu.com/timg?image&quality=80&size=b9999_10000&sec=1550608634102&di=50b3b0f113ad9adbf28bfc64dde1ff1f&imgtype=0&src=http%3A%2F%2Fimg95.699pic.com%2Fphoto%2F50062%2F4783.jpg_wh860.jpg\"/>"
   ]
  },
  {
   "cell_type": "markdown",
   "metadata": {},
   "source": [
    "## =^^=author:秋叶为何而落 =^=^=^= QQ : 81502787 =^^="
   ]
  },
  {
   "cell_type": "code",
   "execution_count": 21,
   "metadata": {
    "collapsed": true
   },
   "outputs": [],
   "source": [
    "%matplotlib inline\n",
    "import numpy as np\n",
    "import matplotlib.pyplot as plt"
   ]
  },
  {
   "cell_type": "code",
   "execution_count": 26,
   "metadata": {},
   "outputs": [
    {
     "data": {
      "text/plain": [
       "[<matplotlib.lines.Line2D at 0x2059c2fc588>]"
      ]
     },
     "execution_count": 26,
     "metadata": {},
     "output_type": "execute_result"
    },
    {
     "data": {
      "image/png": "[encoded data removed]",
      "text/plain": [
       "<matplotlib.figure.Figure at 0x2059c27e630>"
      ]
     },
     "metadata": {},
     "output_type": "display_data"
    }
   ],
   "source": [
    "x = np.linspace(-np.pi, np.pi, 1000)\n",
    "y = np.tan(x) * np.sin(x)\n",
    "z = np.cos(x)\n",
    "plt.plot(x, z)"
   ]
  },
  {
   "cell_type": "markdown",
   "metadata": {},
   "source": [
    "类与对象"
   ]
  },
  {
   "cell_type": "code",
   "execution_count": 32,
   "metadata": {},
   "outputs": [
    {
     "name": "stdout",
     "output_type": "stream",
     "text": [
      "红的汽车在鸣笛！\n"
     ]
    }
   ],
   "source": [
    "class Car:\n",
    "    def __init__(self, color):\n",
    "        self.color = color\n",
    "    def move(self):\n",
    "        print('汽车在移动！')\n",
    "    def toot(self):\n",
    "        print('%s的汽车在鸣笛！'%(self.color))\n",
    "\n",
    "bmw = Car('红')\n",
    "bmw.toot()"
   ]
  },
  {
   "cell_type": "code",
   "execution_count": null,
   "metadata": {
    "collapsed": true
   },
   "outputs": [],
   "source": []
  }
 ],
 "metadata": {
  "kernelspec": {
   "display_name": "Python [default]",
   "language": "python",
   "name": "python3"
  },
  "language_info": {
   "codemirror_mode": {
    "name": "ipython",
    "version": 3
   },
   "file_extension": ".py",
   "mimetype": "text/x-python",
   "name": "python",
   "nbconvert_exporter": "python",
   "pygments_lexer": "ipython3",
   "version": "3.6.2"
  }
 },
 "nbformat": 4,
 "nbformat_minor": 2
}
